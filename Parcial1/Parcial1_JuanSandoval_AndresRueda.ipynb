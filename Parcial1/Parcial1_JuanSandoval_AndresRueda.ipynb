{
 "cells": [
  {
   "cell_type": "code",
   "execution_count": 58,
   "metadata": {},
   "outputs": [],
   "source": [
    "import numpy as np\n",
    "import matplotlib.pyplot as plt\n",
    "import matplotlib.animation as anim\n",
    "from tqdm import tqdm"
   ]
  },
  {
   "cell_type": "code",
   "execution_count": 59,
   "metadata": {},
   "outputs": [],
   "source": [
    "#Definiendo constantes y EDO's\n",
    "N = 2001\n",
    "h = 0.015\n",
    "\n",
    "k = 5\n",
    "l = 3\n",
    "m = 2\n",
    "g = 9.8\n",
    "x0 = np.array([15,np.pi/8]) #Posicion inicial en polares\n",
    "v0 = np.array([0,0])  #Velocidad inicial en polares\n",
    "a0 = np.array([9.81,-np.pi/2])  #Aceleración constante\n",
    "\n",
    "def rDP(r,th,thP):\n",
    "    return k*(l-r)/m + g*np.cos(th)+r*thP**2\n",
    "\n",
    "def thDP(r,th,rP,thP):\n",
    "    return -g*np.sin(th)/r - (2*rP*thP)/r"
   ]
  },
  {
   "cell_type": "code",
   "execution_count": 60,
   "metadata": {},
   "outputs": [],
   "source": [
    "def integrador():\n",
    "    solucion = np.zeros((N,2))\n",
    "    solucion[0] = x0\n",
    "    \n",
    "    velos = np.zeros((N,2))\n",
    "    velos[0] = v0\n",
    "    \n",
    "    #Para el primer punto\n",
    "    solucion[1] = [x0[0] + h*x0[0] + h**2*rDP(*x0,v0[1]), x0[1] + h*x0[1] + h**2*thDP(*x0,*v0)]\n",
    "    velos[1] = [v0[0] + h*rDP(*x0,v0[1]), v0[1] + h*thDP(*x0,*v0)]\n",
    "    \n",
    "    #Usando el integrador\n",
    "    for i in range(2,N):\n",
    "        solucion[i] = solucion[i-1] + h*velos[i-1] + (4*a0*solucion[i-2]+a0*solucion[i-2])*h**2\n",
    "        velos[i] = velos[i-1] + (5*a0*solucion[i-1] - a0*solucion[i-2])/12\n",
    "        \n",
    "    return solucion,velos\n",
    "\n",
    "solucion = integrador()[0]\n",
    "                 "
   ]
  },
  {
   "cell_type": "code",
   "execution_count": 69,
   "metadata": {},
   "outputs": [
    {
     "data": {
      "image/png": "[encoded data removed]",
      "text/plain": [
       "<Figure size 432x432 with 1 Axes>"
      ]
     },
     "metadata": {
      "needs_background": "light"
     },
     "output_type": "display_data"
    }
   ],
   "source": [
    "#Animando\n",
    "x = solucion[:,0]*np.cos(solucion[:,1])\n",
    "y = solucion[:,0]*np.cos(solucion[:,1])\n",
    "\n",
    "def ReduceTime(t,factor):\n",
    "    Newt = []\n",
    "    \n",
    "    for i in range(len(t)):\n",
    "        if i%factor == 0:\n",
    "            Newt.append(t[i])\n",
    "            \n",
    "    return np.array(Newt)\n",
    "\n",
    "t = np.linspace(0,30,N)\n",
    "redT = ReduceTime(t,20)\n",
    "\n",
    "fig = plt.figure(figsize=(6,6))\n",
    "ax = fig.add_subplot(1,1,1)\n",
    "\n",
    "def init():\n",
    "    ax.set_xlim(-20,20)\n",
    "    ax.set_ylim(-20,20)\n",
    "    ax.set_title(\"Oscilador con resorte\")\n",
    "\n",
    "def Update(i):\n",
    "    plot = ax.clear()\n",
    "    init()\n",
    "    plot = ax.plot(x[i],y[i])\n",
    "    \n",
    "    return plot\n",
    "\n",
    "Animation = anim.FuncAnimation(fig,Update)"
   ]
  }
 ],
 "metadata": {
  "kernelspec": {
   "display_name": "Python 3",
   "language": "python",
   "name": "python3"
  },
  "language_info": {
   "codemirror_mode": {
    "name": "ipython",
    "version": 3
   },
   "file_extension": ".py",
   "mimetype": "text/x-python",
   "name": "python",
   "nbconvert_exporter": "python",
   "pygments_lexer": "ipython3",
   "version": "3.7.4"
  }
 },
 "nbformat": 4,
 "nbformat_minor": 2
}
